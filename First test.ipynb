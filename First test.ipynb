{
 "cells": [
  {
   "cell_type": "code",
   "execution_count": 1,
   "id": "6b3226cd-3b24-427c-a12b-6756b44be6d7",
   "metadata": {},
   "outputs": [],
   "source": [
    "import mujoco"
   ]
  },
  {
   "cell_type": "code",
   "execution_count": 2,
   "id": "8a6f67f6-e254-4547-ab1b-4606be6d059a",
   "metadata": {},
   "outputs": [],
   "source": [
    "import torchrl"
   ]
  },
  {
   "cell_type": "code",
   "execution_count": 16,
   "id": "6b8b4cec-73fb-4570-82da-83bb4df6b5a8",
   "metadata": {},
   "outputs": [],
   "source": [
    "dm_control_env = torchrl.envs.DMControlEnv('humanoid', 'stand', device='cpu')"
   ]
  },
  {
   "cell_type": "code",
   "execution_count": 17,
   "id": "5da9bec8-ba68-405d-95ef-79e0241fb00e",
   "metadata": {},
   "outputs": [
    {
     "name": "stdout",
     "output_type": "stream",
     "text": [
      "CPU times: user 143 ms, sys: 8.38 ms, total: 151 ms\n",
      "Wall time: 148 ms\n"
     ]
    },
    {
     "data": {
      "text/plain": [
       "TensorDict(\n",
       "    fields={\n",
       "        action: Tensor(shape=torch.Size([100, 21]), device=cpu, dtype=torch.float64, is_shared=False),\n",
       "        com_velocity: Tensor(shape=torch.Size([100, 3]), device=cpu, dtype=torch.float64, is_shared=False),\n",
       "        done: Tensor(shape=torch.Size([100, 1]), device=cpu, dtype=torch.bool, is_shared=False),\n",
       "        extremities: Tensor(shape=torch.Size([100, 12]), device=cpu, dtype=torch.float64, is_shared=False),\n",
       "        head_height: Tensor(shape=torch.Size([100, 1]), device=cpu, dtype=torch.float64, is_shared=False),\n",
       "        joint_angles: Tensor(shape=torch.Size([100, 21]), device=cpu, dtype=torch.float64, is_shared=False),\n",
       "        next: TensorDict(\n",
       "            fields={\n",
       "                com_velocity: Tensor(shape=torch.Size([100, 3]), device=cpu, dtype=torch.float64, is_shared=False),\n",
       "                done: Tensor(shape=torch.Size([100, 1]), device=cpu, dtype=torch.bool, is_shared=False),\n",
       "                extremities: Tensor(shape=torch.Size([100, 12]), device=cpu, dtype=torch.float64, is_shared=False),\n",
       "                head_height: Tensor(shape=torch.Size([100, 1]), device=cpu, dtype=torch.float64, is_shared=False),\n",
       "                joint_angles: Tensor(shape=torch.Size([100, 21]), device=cpu, dtype=torch.float64, is_shared=False),\n",
       "                reward: Tensor(shape=torch.Size([100, 1]), device=cpu, dtype=torch.float64, is_shared=False),\n",
       "                terminated: Tensor(shape=torch.Size([100, 1]), device=cpu, dtype=torch.bool, is_shared=False),\n",
       "                torso_vertical: Tensor(shape=torch.Size([100, 3]), device=cpu, dtype=torch.float64, is_shared=False),\n",
       "                truncated: Tensor(shape=torch.Size([100, 1]), device=cpu, dtype=torch.bool, is_shared=False),\n",
       "                velocity: Tensor(shape=torch.Size([100, 27]), device=cpu, dtype=torch.float64, is_shared=False)},\n",
       "            batch_size=torch.Size([100]),\n",
       "            device=cpu,\n",
       "            is_shared=False),\n",
       "        terminated: Tensor(shape=torch.Size([100, 1]), device=cpu, dtype=torch.bool, is_shared=False),\n",
       "        torso_vertical: Tensor(shape=torch.Size([100, 3]), device=cpu, dtype=torch.float64, is_shared=False),\n",
       "        truncated: Tensor(shape=torch.Size([100, 1]), device=cpu, dtype=torch.bool, is_shared=False),\n",
       "        velocity: Tensor(shape=torch.Size([100, 27]), device=cpu, dtype=torch.float64, is_shared=False)},\n",
       "    batch_size=torch.Size([100]),\n",
       "    device=cpu,\n",
       "    is_shared=False)"
      ]
     },
     "execution_count": 17,
     "metadata": {},
     "output_type": "execute_result"
    }
   ],
   "source": [
    "%time dm_control_env.rollout(100)"
   ]
  },
  {
   "cell_type": "code",
   "execution_count": 18,
   "id": "2a167c68-a363-4ab0-b82f-3217936a907f",
   "metadata": {},
   "outputs": [
    {
     "data": {
      "text/plain": [
       "675.6756756756757"
      ]
     },
     "execution_count": 18,
     "metadata": {},
     "output_type": "execute_result"
    }
   ],
   "source": [
    "100/0.148"
   ]
  },
  {
   "cell_type": "code",
   "execution_count": 25,
   "id": "49f40919-a431-4e09-b4d3-23fd19b48c42",
   "metadata": {},
   "outputs": [
    {
     "data": {
      "text/plain": [
       "BoundedTensorSpec(\n",
       "    shape=torch.Size([21]),\n",
       "    space=ContinuousBox(\n",
       "        low=Tensor(shape=torch.Size([21]), device=cpu, dtype=torch.float64, contiguous=True),\n",
       "        high=Tensor(shape=torch.Size([21]), device=cpu, dtype=torch.float64, contiguous=True)),\n",
       "    device=cpu,\n",
       "    dtype=torch.float64,\n",
       "    domain=continuous)"
      ]
     },
     "execution_count": 25,
     "metadata": {},
     "output_type": "execute_result"
    }
   ],
   "source": [
    "dm_control_env.action_spec"
   ]
  },
  {
   "cell_type": "code",
   "execution_count": 9,
   "id": "faca4f70-7aaa-46cd-91f6-7106c97bd7b7",
   "metadata": {},
   "outputs": [
    {
     "data": {
      "text/plain": [
       "CompositeSpec(\n",
       "    joint_angles: UnboundedContinuousTensorSpec(\n",
       "        shape=torch.Size([21]),\n",
       "        space=None,\n",
       "        device=cuda,\n",
       "        dtype=torch.float64,\n",
       "        domain=continuous),\n",
       "    head_height: UnboundedContinuousTensorSpec(\n",
       "        shape=torch.Size([1]),\n",
       "        space=ContinuousBox(\n",
       "            low=Tensor(shape=torch.Size([1]), device=cuda:0, dtype=torch.float32, contiguous=True),\n",
       "            high=Tensor(shape=torch.Size([1]), device=cuda:0, dtype=torch.float32, contiguous=True)),\n",
       "        device=cuda,\n",
       "        dtype=torch.float64,\n",
       "        domain=continuous),\n",
       "    extremities: UnboundedContinuousTensorSpec(\n",
       "        shape=torch.Size([12]),\n",
       "        space=None,\n",
       "        device=cuda,\n",
       "        dtype=torch.float64,\n",
       "        domain=continuous),\n",
       "    torso_vertical: UnboundedContinuousTensorSpec(\n",
       "        shape=torch.Size([3]),\n",
       "        space=None,\n",
       "        device=cuda,\n",
       "        dtype=torch.float64,\n",
       "        domain=continuous),\n",
       "    com_velocity: UnboundedContinuousTensorSpec(\n",
       "        shape=torch.Size([3]),\n",
       "        space=None,\n",
       "        device=cuda,\n",
       "        dtype=torch.float64,\n",
       "        domain=continuous),\n",
       "    velocity: UnboundedContinuousTensorSpec(\n",
       "        shape=torch.Size([27]),\n",
       "        space=None,\n",
       "        device=cuda,\n",
       "        dtype=torch.float64,\n",
       "        domain=continuous), device=cuda, shape=torch.Size([]))"
      ]
     },
     "execution_count": 9,
     "metadata": {},
     "output_type": "execute_result"
    }
   ],
   "source": [
    "dm_control_env.observation_spec"
   ]
  },
  {
   "cell_type": "code",
   "execution_count": 3,
   "id": "b9807d2a-cd23-4875-8c6a-c50b6bbf2755",
   "metadata": {},
   "outputs": [],
   "source": [
    "import mujoco._simulation_pool"
   ]
  },
  {
   "cell_type": "code",
   "execution_count": 4,
   "id": "4a85cde2-7563-4c3c-adf2-8beb0f4ded23",
   "metadata": {},
   "outputs": [],
   "source": [
    "model = mujoco.MjModel.from_xml_path(\"../test_mjx/quick-mjx-performance-test/humanoid_mjx.xml\")"
   ]
  },
  {
   "cell_type": "code",
   "execution_count": 21,
   "id": "3bf386ed-e1a6-4c37-82a6-d9430be0b61f",
   "metadata": {},
   "outputs": [
    {
     "data": {
      "text/plain": [
       "56"
      ]
     },
     "execution_count": 21,
     "metadata": {},
     "output_type": "execute_result"
    }
   ],
   "source": []
  },
  {
   "cell_type": "code",
   "execution_count": 6,
   "id": "9fa36522-9994-454b-b2be-e42efce8c8df",
   "metadata": {},
   "outputs": [],
   "source": [
    "import torch\n",
    "import torchrl.data\n",
    "import numpy as np\n",
    "import tensordict"
   ]
  },
  {
   "cell_type": "code",
   "execution_count": 33,
   "id": "21639811-eb6b-41bd-a25c-4b95a3626489",
   "metadata": {},
   "outputs": [
    {
     "data": {
      "text/plain": [
       "torch.Size([15])"
      ]
     },
     "execution_count": 33,
     "metadata": {},
     "output_type": "execute_result"
    }
   ],
   "source": [
    "torch.Size((15,))"
   ]
  },
  {
   "cell_type": "code",
   "execution_count": 7,
   "id": "5d63c77d-4cb4-4954-81ab-bb4ba902a052",
   "metadata": {},
   "outputs": [],
   "source": [
    "import os"
   ]
  },
  {
   "cell_type": "code",
   "execution_count": 8,
   "id": "c7581d6d-52a9-4e95-a79f-f971fd86ff35",
   "metadata": {},
   "outputs": [
    {
     "data": {
      "text/plain": [
       "20"
      ]
     },
     "execution_count": 8,
     "metadata": {},
     "output_type": "execute_result"
    }
   ],
   "source": [
    "os.cpu_count()"
   ]
  },
  {
   "cell_type": "code",
   "execution_count": 10,
   "id": "036fc0dd-5a6a-44b8-82a3-9fb2a5b73404",
   "metadata": {},
   "outputs": [],
   "source": [
    "class CustomMujocoEnv(torchrl.envs.EnvBase):\n",
    "    def __init__(self, mj_model, seed=None, batch_size=[], device=\"cpu\",\n",
    "                 worker_thread_count=os.cpu_count()):\n",
    "        super().__init__(device=device, batch_size=batch_size)\n",
    "        self._mj_model = mj_model\n",
    "        self._make_spec()\n",
    "        if seed is None:\n",
    "            seed = torch.empty((), dtype=torch.int64).random_().item()\n",
    "        self.set_seed(seed)\n",
    "        flat_batch_size = self.batch_size.numel()\n",
    "        self.simulation_pool = mujoco._simulation_pool.SimulationPool(mj_model, flat_batch_size, worker_thread_count)\n",
    "\n",
    "    def _make_spec(self):\n",
    "        state_size = mujoco.mj_stateSize(self._mj_model, mujoco.mjtState.mjSTATE_FULLPHYSICS)\n",
    "        action_size = mujoco.mj_stateSize(self._mj_model, mujoco.mjtState.mjSTATE_CTRL)\n",
    "        self.observation_spec = torchrl.data.CompositeSpec(\n",
    "            fullphysics = torchrl.data.UnboundedContinuousTensorSpec(\n",
    "                shape=self.batch_size + (state_size,),\n",
    "                dtype=torch.float32\n",
    "            ),\n",
    "            shape=self.batch_size\n",
    "        )\n",
    "        #Not sure about this one...\n",
    "        self.state_spec = self.observation_spec.clone()\n",
    "\n",
    "        self.action_spec = torchrl.data.BoundedTensorSpec(\n",
    "            low=-torch.ones(self.batch_size + (action_size,), dtype=torch.float32, device=self.device),\n",
    "            high=torch.ones(self.batch_size + (action_size,), dtype=torch.float32, device=self.device),\n",
    "            device=self.device,\n",
    "            dtype=torch.float32)\n",
    "\n",
    "        self.reward_spec = torchrl.data.UnboundedContinuousTensorSpec(shape=self.batch_size+(1,))\n",
    "\n",
    "    def _reset(self, td):\n",
    "        flat_batch_size = self.batch_size.numel()\n",
    "        self.simulation_pool.setReset(np.ones(flat_batch_size, dtype=np.bool_))\n",
    "        self.simulation_pool.step()\n",
    "        self.simulation_pool.setReset(np.zeros(flat_batch_size, dtype=np.bool_))\n",
    "        out = tensordict.TensorDict({\n",
    "            \"fullphysics\": self._getPhysicsState(),\n",
    "        }, batch_size=self.batch_size)\n",
    "        return out\n",
    "\n",
    "    def _step(self, action):\n",
    "        state_size = mujoco.mj_stateSize(self._mj_model, mujoco.mjtState.mjSTATE_FULLPHYSICS)\n",
    "        self.simulation_pool.step()\n",
    "        out = tensordict.TensorDict({\n",
    "            \"fullphysics\": self._getPhysicsState(),\n",
    "            \"reward\": self._getReward(),\n",
    "            \"done\": self._getDone()\n",
    "        }, batch_size=self.batch_size)\n",
    "        return out\n",
    "\n",
    "    def _set_seed(self, seed):\n",
    "        rng = torch.manual_seed(seed)\n",
    "        self.rng = rng\n",
    "        \n",
    "    def _getPhysicsState(self):\n",
    "        state_size = mujoco.mj_stateSize(self._mj_model, mujoco.mjtState.mjSTATE_FULLPHYSICS)\n",
    "        fullphysics = torch.from_numpy(np.array(self.simulation_pool.getState()))\n",
    "        return fullphysics.to(device=self.device, dtype=torch.float32).reshape(self.batch_size + (state_size,))\n",
    "\n",
    "    def _getReward(self):\n",
    "        #TODO: proper reward function\n",
    "        return torch.zeros(self.batch_size, dtype=torch.float32, device=self.device)\n",
    "\n",
    "    def _getDone(self):\n",
    "        #TODO: proper termination function\n",
    "        return torch.zeros(self.batch_size, dtype=torch.bool, device=self.device)"
   ]
  },
  {
   "cell_type": "code",
   "execution_count": 297,
   "id": "17dd3c25-f071-4397-8e37-7257b2f2823c",
   "metadata": {},
   "outputs": [
    {
     "data": {
      "text/plain": [
       "\u001b[0;31mDocstring:\u001b[0m\n",
       "getState(self: mujoco._simulation_pool.SimulationPool) -> memoryview\n",
       "\n",
       "Get a memory view of the state (nroll x nstate).\n",
       "\u001b[0;31mType:\u001b[0m      method"
      ]
     },
     "metadata": {},
     "output_type": "display_data"
    }
   ],
   "source": [
    "env.simulation_pool.getState?"
   ]
  },
  {
   "cell_type": "code",
   "execution_count": 11,
   "id": "3651712f-10d2-485e-94f3-00b2de8a9cc6",
   "metadata": {},
   "outputs": [],
   "source": [
    "env = CustomMujocoEnv(model, batch_size=torch.Size((4000,)), device='cuda')"
   ]
  },
  {
   "cell_type": "code",
   "execution_count": 12,
   "id": "f4e9966e-2c31-4c40-84fd-07627eefba98",
   "metadata": {},
   "outputs": [
    {
     "name": "stdout",
     "output_type": "stream",
     "text": [
      "CPU times: user 259 ms, sys: 20.3 ms, total: 280 ms\n",
      "Wall time: 97.9 ms\n"
     ]
    },
    {
     "data": {
      "text/plain": [
       "TensorDict(\n",
       "    fields={\n",
       "        action: Tensor(shape=torch.Size([4000, 21]), device=cuda:0, dtype=torch.float32, is_shared=True),\n",
       "        next: TensorDict(\n",
       "            fields={\n",
       "                done: Tensor(shape=torch.Size([4000, 1]), device=cuda:0, dtype=torch.bool, is_shared=True),\n",
       "                fullphysics: Tensor(shape=torch.Size([4000, 56]), device=cuda:0, dtype=torch.float32, is_shared=True),\n",
       "                reward: Tensor(shape=torch.Size([4000, 1]), device=cuda:0, dtype=torch.float32, is_shared=True),\n",
       "                terminated: Tensor(shape=torch.Size([4000, 1]), device=cuda:0, dtype=torch.bool, is_shared=True)},\n",
       "            batch_size=torch.Size([4000]),\n",
       "            device=cuda,\n",
       "            is_shared=True)},\n",
       "    batch_size=torch.Size([4000]),\n",
       "    device=cuda,\n",
       "    is_shared=True)"
      ]
     },
     "execution_count": 12,
     "metadata": {},
     "output_type": "execute_result"
    }
   ],
   "source": [
    "%time env.step(env.rand_action())"
   ]
  },
  {
   "cell_type": "code",
   "execution_count": 282,
   "id": "399a6b4c-f190-480b-8c52-570c4ff6a573",
   "metadata": {},
   "outputs": [
    {
     "name": "stdout",
     "output_type": "stream",
     "text": [
      "CPU times: user 27.7 s, sys: 73.8 ms, total: 27.8 s\n",
      "Wall time: 1.52 s\n"
     ]
    }
   ],
   "source": [
    "%time env.rollout(100);"
   ]
  },
  {
   "cell_type": "code",
   "execution_count": 283,
   "id": "9260a4fa-0e68-4a1a-8361-5eca5dfbba05",
   "metadata": {},
   "outputs": [
    {
     "data": {
      "text/plain": [
       "261437.908496732"
      ]
     },
     "execution_count": 283,
     "metadata": {},
     "output_type": "execute_result"
    }
   ],
   "source": [
    "4000*100/1.53"
   ]
  },
  {
   "cell_type": "code",
   "execution_count": 179,
   "id": "d44f87a3-ab4b-4ee2-abc4-13148c3fc0b0",
   "metadata": {},
   "outputs": [],
   "source": [
    "import tqdm"
   ]
  },
  {
   "cell_type": "code",
   "execution_count": 284,
   "id": "487da3d3-8e70-4694-92c6-6978c225c687",
   "metadata": {},
   "outputs": [],
   "source": [
    "def dumb_rollout(env):\n",
    "    for t in range(100):\n",
    "        env.simulation_pool.step()"
   ]
  },
  {
   "cell_type": "code",
   "execution_count": 285,
   "id": "f6271d04-e71b-4d2a-949a-a6b0c5d804ad",
   "metadata": {},
   "outputs": [
    {
     "name": "stdout",
     "output_type": "stream",
     "text": [
      "CPU times: user 20.7 s, sys: 58.2 ms, total: 20.7 s\n",
      "Wall time: 1.1 s\n"
     ]
    }
   ],
   "source": [
    "%time dumb_rollout(env)"
   ]
  },
  {
   "cell_type": "code",
   "execution_count": 178,
   "id": "efdb3b92-e350-409a-b56f-38b2470e3204",
   "metadata": {},
   "outputs": [
    {
     "data": {
      "text/plain": [
       "232727.27272727274"
      ]
     },
     "execution_count": 178,
     "metadata": {},
     "output_type": "execute_result"
    }
   ],
   "source": [
    "2048*100/0.880"
   ]
  },
  {
   "cell_type": "code",
   "execution_count": 149,
   "id": "2d48ea9e-d156-46e5-86d9-3bb9d519d11e",
   "metadata": {},
   "outputs": [
    {
     "data": {
      "text/plain": [
       "227808.6763070078"
      ]
     },
     "execution_count": 149,
     "metadata": {},
     "output_type": "execute_result"
    }
   ],
   "source": [
    "2048*100/0.899"
   ]
  },
  {
   "cell_type": "code",
   "execution_count": 238,
   "id": "88017a28-abdf-460c-846a-dda42a02d921",
   "metadata": {},
   "outputs": [
    {
     "name": "stderr",
     "output_type": "stream",
     "text": [
      "2024-03-22 15:30:06,228 [torchrl][INFO] check_env_specs succeeded!\n"
     ]
    }
   ],
   "source": [
    "torchrl.envs.utils.check_env_specs(env)"
   ]
  },
  {
   "cell_type": "code",
   "execution_count": 15,
   "id": "b313249f-ea75-4403-b914-dcd7c1d3bbe2",
   "metadata": {},
   "outputs": [
    {
     "data": {
      "text/plain": [
       "<mujoco._simulation_pool.SimulationPool at 0x7e49b3cc9b30>"
      ]
     },
     "execution_count": 15,
     "metadata": {},
     "output_type": "execute_result"
    }
   ],
   "source": [
    "env.simulation_pool."
   ]
  },
  {
   "cell_type": "code",
   "execution_count": 17,
   "id": "31107034-5e8d-4fec-a1d6-601d68d7ce02",
   "metadata": {},
   "outputs": [
    {
     "ename": "AttributeError",
     "evalue": "module 'os' has no attribute 'glob'",
     "output_type": "error",
     "traceback": [
      "\u001b[0;31m---------------------------------------------------------------------------\u001b[0m",
      "\u001b[0;31mAttributeError\u001b[0m                            Traceback (most recent call last)",
      "Cell \u001b[0;32mIn[17], line 1\u001b[0m\n\u001b[0;32m----> 1\u001b[0m \u001b[43mos\u001b[49m\u001b[38;5;241;43m.\u001b[39;49m\u001b[43mglob\u001b[49m(\u001b[38;5;124m\"\u001b[39m\u001b[38;5;124mmodels\u001b[39m\u001b[38;5;124m\"\u001b[39m)\n",
      "\u001b[0;31mAttributeError\u001b[0m: module 'os' has no attribute 'glob'"
     ]
    }
   ],
   "source": [
    "os"
   ]
  },
  {
   "cell_type": "code",
   "execution_count": null,
   "id": "6020bc2e-d88b-4c9e-b9e5-f3f7ac98ebdd",
   "metadata": {},
   "outputs": [],
   "source": []
  }
 ],
 "metadata": {
  "kernelspec": {
   "display_name": "Python 3 (ipykernel)",
   "language": "python",
   "name": "python3"
  },
  "language_info": {
   "codemirror_mode": {
    "name": "ipython",
    "version": 3
   },
   "file_extension": ".py",
   "mimetype": "text/x-python",
   "name": "python",
   "nbconvert_exporter": "python",
   "pygments_lexer": "ipython3",
   "version": "3.10.12"
  }
 },
 "nbformat": 4,
 "nbformat_minor": 5
}
