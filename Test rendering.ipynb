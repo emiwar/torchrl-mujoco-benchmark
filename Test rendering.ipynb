{
 "cells": [
  {
   "cell_type": "code",
   "execution_count": 1,
   "id": "5582a535-6e15-428d-b646-eefd4b38be56",
   "metadata": {},
   "outputs": [],
   "source": [
    "import os\n",
    "os.environ[\"MUJOCO_GL\"] = \"egl\""
   ]
  },
  {
   "cell_type": "code",
   "execution_count": 2,
   "id": "624b2639-368d-49a9-82bd-d300c96dd13c",
   "metadata": {},
   "outputs": [],
   "source": [
    "import mujoco._simulation_pool\n",
    "import mujoco.gl_context\n",
    "import numpy as np\n",
    "import tqdm\n",
    "import matplotlib.pyplot as plt"
   ]
  },
  {
   "cell_type": "code",
   "execution_count": 3,
   "id": "0adec194-01c1-4725-b300-242e593ab15f",
   "metadata": {},
   "outputs": [],
   "source": [
    "model = mujoco.MjModel.from_xml_path(\"models/rodent.xml\")"
   ]
  },
  {
   "cell_type": "code",
   "execution_count": 4,
   "id": "39151bf3-8241-497c-84c6-4a552dffd470",
   "metadata": {},
   "outputs": [],
   "source": [
    "nroll = 256\n",
    "res = 64"
   ]
  },
  {
   "cell_type": "code",
   "execution_count": 5,
   "id": "80526b2d-35d4-44ef-bc72-2ce3754f52d5",
   "metadata": {},
   "outputs": [],
   "source": [
    "model.vis.global_.offheight = res*nroll\n",
    "model.vis.global_.offwidth = res"
   ]
  },
  {
   "cell_type": "code",
   "execution_count": 6,
   "id": "818bf6ec-4218-48a0-9285-bd40ee052f1e",
   "metadata": {},
   "outputs": [],
   "source": [
    "sm = mujoco._simulation_pool.SimulationPool(model, nroll, 20, mujoco.mjtState.mjSTATE_FULLPHYSICS)"
   ]
  },
  {
   "cell_type": "code",
   "execution_count": 7,
   "id": "b852a8c5-8323-41d3-b64e-7ab394dfb6fd",
   "metadata": {},
   "outputs": [],
   "source": [
    "sm.reset(np.ones(nroll, bool))\n",
    "np.array(sm.getState())\n",
    "sm.step()\n",
    "sm.step()\n",
    "sm.step()"
   ]
  },
  {
   "cell_type": "code",
   "execution_count": 8,
   "id": "77d76358-39ef-4f62-995e-d35e837979eb",
   "metadata": {},
   "outputs": [],
   "source": [
    "glContext = mujoco.gl_context.GLContext(res*nroll, res)\n",
    "opt = mujoco.MjvOption()\n",
    "opt.flags[mujoco.mjtVisFlag.mjVIS_JOINT] = False\n",
    "opt.flags[mujoco.mjtVisFlag.mjVIS_SKIN] = False\n",
    "opt.flags[mujoco.mjtVisFlag.mjVIS_FLEXSKIN] = False\n",
    "opt.flags[mujoco.mjtVisFlag.mjVIS_TEXTURE] = True\n",
    "sm.enableRendering(glContext, res, res, opt)\n",
    "sm.setSceneFlag(mujoco.mjtRndFlag.mjRND_FOG, True)\n",
    "sm.setSceneFlag(mujoco.mjtRndFlag.mjRND_SHADOW, False)\n",
    "sm.setSceneFlag(mujoco.mjtRndFlag.mjRND_REFLECTION, False)"
   ]
  },
  {
   "cell_type": "code",
   "execution_count": 9,
   "id": "24542022-fa31-4c56-bd78-e003ddab8620",
   "metadata": {},
   "outputs": [],
   "source": [
    "frame = np.full((res*nroll, res, 3), res, np.uint8)"
   ]
  },
  {
   "cell_type": "code",
   "execution_count": 10,
   "id": "ad3feb04-444a-43c6-9093-168147ea7d6e",
   "metadata": {},
   "outputs": [
    {
     "name": "stderr",
     "output_type": "stream",
     "text": [
      "100%|███████████████████████████████████████████████████████████████████████████████████████████████████████████████████████████████████████████████████████| 100/100 [00:07<00:00, 14.20it/s]\n"
     ]
    }
   ],
   "source": [
    "for t in tqdm.trange(100):\n",
    "    sm.renderAll(frame, \"side\")"
   ]
  },
  {
   "cell_type": "code",
   "execution_count": 88,
   "id": "414e85dc-b691-4bd4-a70d-76f7d11432e1",
   "metadata": {
    "jp-MarkdownHeadingCollapsed": true
   },
   "outputs": [
    {
     "data": {
      "text/plain": [
       "3525.12"
      ]
     },
     "execution_count": 88,
     "metadata": {},
     "output_type": "execute_result"
    }
   ],
   "source": [
    "nroll*13.77"
   ]
  },
  {
   "cell_type": "markdown",
   "id": "274a69bd-cf81-4e76-808a-8858d487db3b",
   "metadata": {},
   "source": [
    "# NOTE: SHOULD DOUBLE-CHECK THAT ENV ORDER IS CORRECT FOR THE RENDERED\n",
    "OpenGL has the origin at the bottom"
   ]
  },
  {
   "cell_type": "code",
   "execution_count": 11,
   "id": "c5a5241f-06b7-4df0-ba3b-63e27fe155bb",
   "metadata": {},
   "outputs": [
    {
     "data": {
      "text/plain": [
       "<matplotlib.image.AxesImage at 0x773617393580>"
      ]
     },
     "execution_count": 11,
     "metadata": {},
     "output_type": "execute_result"
    },
    {
     "data": {
      "image/png": "[encoded data removed]",
      "text/plain": [
       "<Figure size 640x480 with 1 Axes>"
      ]
     },
     "metadata": {},
     "output_type": "display_data"
    }
   ],
   "source": [
    "plt.imshow(frame.reshape(nroll, res, res, 3)[0], origin=\"lower\")"
   ]
  },
  {
   "cell_type": "code",
   "execution_count": 77,
   "id": "ae992a5a-ba12-46b7-9555-c2a5070041c8",
   "metadata": {},
   "outputs": [
    {
     "name": "stderr",
     "output_type": "stream",
     "text": [
      "100%|█████████████████████████████████████████| 100/100 [00:03<00:00, 29.18it/s]\n"
     ]
    }
   ],
   "source": [
    "for t in tqdm.trange(100):\n",
    "    sm.multistep(10)"
   ]
  },
  {
   "cell_type": "code",
   "execution_count": 78,
   "id": "25a9e333-d183-404f-99dd-e0992864a479",
   "metadata": {},
   "outputs": [
    {
     "data": {
      "text/plain": [
       "74700.8"
      ]
     },
     "execution_count": 78,
     "metadata": {},
     "output_type": "execute_result"
    }
   ],
   "source": [
    "10*nroll*29.18"
   ]
  },
  {
   "cell_type": "code",
   "execution_count": 27,
   "id": "715acc8d-7101-4173-ad45-2d926f9ab284",
   "metadata": {},
   "outputs": [
    {
     "data": {
      "text/plain": [
       "array([[ 5.04600000e+00, -6.07364904e-03, -9.00226673e-06, ...,\n",
       "         0.00000000e+00,  0.00000000e+00,  0.00000000e+00],\n",
       "       [ 5.04600000e+00, -6.07364904e-03, -9.00226673e-06, ...,\n",
       "         0.00000000e+00,  0.00000000e+00,  0.00000000e+00],\n",
       "       [ 5.04600000e+00, -6.07364904e-03, -9.00226673e-06, ...,\n",
       "         0.00000000e+00,  0.00000000e+00,  0.00000000e+00],\n",
       "       ...,\n",
       "       [ 5.04600000e+00, -6.07364904e-03, -9.00226673e-06, ...,\n",
       "         0.00000000e+00,  0.00000000e+00,  0.00000000e+00],\n",
       "       [ 5.04600000e+00, -6.07364904e-03, -9.00226673e-06, ...,\n",
       "         0.00000000e+00,  0.00000000e+00,  0.00000000e+00],\n",
       "       [ 5.04600000e+00, -6.07364904e-03, -9.00226673e-06, ...,\n",
       "         0.00000000e+00,  0.00000000e+00,  0.00000000e+00]])"
      ]
     },
     "execution_count": 27,
     "metadata": {},
     "output_type": "execute_result"
    }
   ],
   "source": [
    "np.array(sm.getState())"
   ]
  },
  {
   "cell_type": "code",
   "execution_count": null,
   "id": "8c2108ba-ecbc-4d3a-828b-06e4145b39d6",
   "metadata": {},
   "outputs": [],
   "source": []
  }
 ],
 "metadata": {
  "kernelspec": {
   "display_name": "Python 3 (ipykernel)",
   "language": "python",
   "name": "python3"
  },
  "language_info": {
   "codemirror_mode": {
    "name": "ipython",
    "version": 3
   },
   "file_extension": ".py",
   "mimetype": "text/x-python",
   "name": "python",
   "nbconvert_exporter": "python",
   "pygments_lexer": "ipython3",
   "version": "3.10.12"
  }
 },
 "nbformat": 4,
 "nbformat_minor": 5
}
